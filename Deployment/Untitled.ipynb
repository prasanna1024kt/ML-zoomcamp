{
 "cells": [
  {
   "cell_type": "code",
   "execution_count": 20,
   "id": "15db4e43-ca2d-4a92-8d15-96c75f827e35",
   "metadata": {},
   "outputs": [],
   "source": [
    "import requests"
   ]
  },
  {
   "cell_type": "code",
   "execution_count": 39,
   "id": "41c5524b-a2b8-43e4-a813-ae8bea40927d",
   "metadata": {},
   "outputs": [],
   "source": [
    "url = 'http://127.0.0.1:9696/predict'"
   ]
  },
  {
   "cell_type": "code",
   "execution_count": 40,
   "id": "6dfe940d-be1c-410c-8ba7-b1f7d8549fcc",
   "metadata": {},
   "outputs": [],
   "source": [
    "customer = {\n",
    "    \"gender\": \"female\",\n",
    "    \"seniorcitizen\": 0,\n",
    "    \"partner\": \"yes\",\n",
    "    \"dependents\": \"no\",\n",
    "    \"phoneservice\": \"no\",\n",
    "    \"multiplelines\": \"no_phone_service\",\n",
    "    \"internetservice\": \"dsl\",\n",
    "    \"onlinesecurity\": \"no\",\n",
    "    \"onlinebackup\": \"yes\",\n",
    "    \"deviceprotection\": \"no\",\n",
    "    \"techsupport\": \"no\",\n",
    "    \"streamingtv\": \"no\",\n",
    "    \"streamingmovies\": \"no\",\n",
    "    \"contract\": \"month-to-month\",\n",
    "    \"paperlessbilling\": \"yes\",\n",
    "    \"paymentmethod\": \"electronic_check\",\n",
    "    \"tenure\": 24,\n",
    "    \"monthlycharges\": 29.85,\n",
    "    \"totalcharges\": (24 * 29.85)\n",
    "}\n"
   ]
  },
  {
   "cell_type": "code",
   "execution_count": 52,
   "id": "81417540-b7a9-4a20-98ee-ef51d86f4165",
   "metadata": {},
   "outputs": [],
   "source": [
    "customer1 = {\n",
    "\"gender\": \"female\",\n",
    "    \"seniorcitizen\": 0,\n",
    "    \"partner\": \"yes\",\n",
    "    \"dependents\": \"no\",\n",
    "    \"phoneservice\": \"no\",\n",
    "    \"multiplelines\": \"no_phone_service\",\n",
    "    \"internetservice\": \"dsl\",\n",
    "    \"onlinesecurity\": \"no\",\n",
    "    \"onlinebackup\": \"yes\",\n",
    "    \"deviceprotection\": \"no\",\n",
    "    \"techsupport\": \"no\",\n",
    "    \"streamingtv\": \"no\",\n",
    "    \"streamingmovies\": \"no\",\n",
    "    \"contract\": \"month-to-month\",\n",
    "    \"paperlessbilling\": \"yes\",\n",
    "    \"paymentmethod\": \"electronic_check\",\n",
    "    \"tenure\": 80,\n",
    "    \"monthlycharges\": 176.85,\n",
    "    \"totalcharges\": 29.85\n",
    "}"
   ]
  },
  {
   "cell_type": "code",
   "execution_count": 41,
   "id": "ffd3298c-38b4-4b0c-8275-d2f6408e467a",
   "metadata": {},
   "outputs": [
    {
     "name": "stdout",
     "output_type": "stream",
     "text": [
      "{'churn': False, 'churn_probability': 0.3392348453971887}\n"
     ]
    }
   ],
   "source": [
    "response = requests.post(url, json=customer).json()\n",
    "print(response)"
   ]
  },
  {
   "cell_type": "code",
   "execution_count": 42,
   "id": "938fee42-ed96-4e99-8948-4be3985fe962",
   "metadata": {},
   "outputs": [
    {
     "name": "stdout",
     "output_type": "stream",
     "text": [
      "<Response [200]>\n",
      "200\n",
      "application/json\n"
     ]
    }
   ],
   "source": [
    "resp = requests.post(\"http://127.0.0.1:9696/predict\", json=customer, timeout=10)\n",
    "print(resp)\n",
    "print(resp.status_code)\n",
    "print(resp.headers.get(\"content-type\"))"
   ]
  },
  {
   "cell_type": "code",
   "execution_count": 53,
   "id": "d70203a3-88f1-4b1b-9794-1e415c8835e4",
   "metadata": {},
   "outputs": [
    {
     "name": "stdout",
     "output_type": "stream",
     "text": [
      "{'churn': False, 'churn_probability': 0.017494186286171956}\n"
     ]
    }
   ],
   "source": [
    "response = requests.post(url, json=customer1).json()\n",
    "print(response)\n"
   ]
  },
  {
   "cell_type": "code",
   "execution_count": null,
   "id": "3a93e149-ee9b-4ab1-8895-48d9237f351a",
   "metadata": {},
   "outputs": [],
   "source": []
  }
 ],
 "metadata": {
  "kernelspec": {
   "display_name": "Python 3 (ipykernel)",
   "language": "python",
   "name": "python3"
  },
  "language_info": {
   "codemirror_mode": {
    "name": "ipython",
    "version": 3
   },
   "file_extension": ".py",
   "mimetype": "text/x-python",
   "name": "python",
   "nbconvert_exporter": "python",
   "pygments_lexer": "ipython3",
   "version": "3.12.1"
  }
 },
 "nbformat": 4,
 "nbformat_minor": 5
}
