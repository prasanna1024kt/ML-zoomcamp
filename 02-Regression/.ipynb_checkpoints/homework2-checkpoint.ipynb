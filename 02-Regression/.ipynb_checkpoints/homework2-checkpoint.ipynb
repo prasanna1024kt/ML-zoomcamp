{
 "cells": [
  {
   "cell_type": "code",
   "execution_count": 139,
   "id": "b499caaa-a6e7-4812-ae8c-84d1e404a02d",
   "metadata": {},
   "outputs": [],
   "source": [
    "import pandas as pd\n",
    "import numpy as np"
   ]
  },
  {
   "cell_type": "code",
   "execution_count": 2,
   "id": "7e912661-2b39-4fd2-9fb0-a9bfd51d6209",
   "metadata": {},
   "outputs": [
    {
     "name": "stdout",
     "output_type": "stream",
     "text": [
      "--2025-10-06 17:09:27--  https://raw.githubusercontent.com/alexeygrigorev/datasets/master/car_fuel_efficiency.csv\n",
      "Resolving raw.githubusercontent.com (raw.githubusercontent.com)... 185.199.111.133, 185.199.108.133, 185.199.109.133, ...\n",
      "Connecting to raw.githubusercontent.com (raw.githubusercontent.com)|185.199.111.133|:443... connected.\n",
      "HTTP request sent, awaiting response... 200 OK\n",
      "Length: 874188 (854K) [text/plain]\n",
      "Saving to: ‘car_fuel_efficiency.csv.1’\n",
      "\n",
      "car_fuel_efficiency 100%[===================>] 853.70K  3.45MB/s    in 0.2s    \n",
      "\n",
      "2025-10-06 17:09:28 (3.45 MB/s) - ‘car_fuel_efficiency.csv.1’ saved [874188/874188]\n",
      "\n"
     ]
    }
   ],
   "source": [
    "!wget https://raw.githubusercontent.com/alexeygrigorev/datasets/master/car_fuel_efficiency.csv"
   ]
  },
  {
   "cell_type": "markdown",
   "id": "5535cfa0-633d-4a95-a6c7-e138fad80139",
   "metadata": {},
   "source": [
    "## Preparing the dataset\n"
   ]
  },
  {
   "cell_type": "code",
   "execution_count": 221,
   "id": "f6c0d7ee-f373-4ca9-a6db-78505b49ca5b",
   "metadata": {},
   "outputs": [
    {
     "data": {
      "text/html": [
       "<div>\n",
       "<style scoped>\n",
       "    .dataframe tbody tr th:only-of-type {\n",
       "        vertical-align: middle;\n",
       "    }\n",
       "\n",
       "    .dataframe tbody tr th {\n",
       "        vertical-align: top;\n",
       "    }\n",
       "\n",
       "    .dataframe thead th {\n",
       "        text-align: right;\n",
       "    }\n",
       "</style>\n",
       "<table border=\"1\" class=\"dataframe\">\n",
       "  <thead>\n",
       "    <tr style=\"text-align: right;\">\n",
       "      <th></th>\n",
       "      <th>engine_displacement</th>\n",
       "      <th>num_cylinders</th>\n",
       "      <th>horsepower</th>\n",
       "      <th>vehicle_weight</th>\n",
       "      <th>acceleration</th>\n",
       "      <th>model_year</th>\n",
       "      <th>origin</th>\n",
       "      <th>fuel_type</th>\n",
       "      <th>drivetrain</th>\n",
       "      <th>num_doors</th>\n",
       "      <th>fuel_efficiency_mpg</th>\n",
       "    </tr>\n",
       "  </thead>\n",
       "  <tbody>\n",
       "    <tr>\n",
       "      <th>0</th>\n",
       "      <td>170</td>\n",
       "      <td>3.0</td>\n",
       "      <td>159.0</td>\n",
       "      <td>3413.433759</td>\n",
       "      <td>17.7</td>\n",
       "      <td>2003</td>\n",
       "      <td>Europe</td>\n",
       "      <td>Gasoline</td>\n",
       "      <td>All-wheel drive</td>\n",
       "      <td>0.0</td>\n",
       "      <td>13.231729</td>\n",
       "    </tr>\n",
       "    <tr>\n",
       "      <th>1</th>\n",
       "      <td>130</td>\n",
       "      <td>5.0</td>\n",
       "      <td>97.0</td>\n",
       "      <td>3149.664934</td>\n",
       "      <td>17.8</td>\n",
       "      <td>2007</td>\n",
       "      <td>USA</td>\n",
       "      <td>Gasoline</td>\n",
       "      <td>Front-wheel drive</td>\n",
       "      <td>0.0</td>\n",
       "      <td>13.688217</td>\n",
       "    </tr>\n",
       "    <tr>\n",
       "      <th>2</th>\n",
       "      <td>170</td>\n",
       "      <td>NaN</td>\n",
       "      <td>78.0</td>\n",
       "      <td>3079.038997</td>\n",
       "      <td>15.1</td>\n",
       "      <td>2018</td>\n",
       "      <td>Europe</td>\n",
       "      <td>Gasoline</td>\n",
       "      <td>Front-wheel drive</td>\n",
       "      <td>0.0</td>\n",
       "      <td>14.246341</td>\n",
       "    </tr>\n",
       "    <tr>\n",
       "      <th>3</th>\n",
       "      <td>220</td>\n",
       "      <td>4.0</td>\n",
       "      <td>NaN</td>\n",
       "      <td>2542.392402</td>\n",
       "      <td>20.2</td>\n",
       "      <td>2009</td>\n",
       "      <td>USA</td>\n",
       "      <td>Diesel</td>\n",
       "      <td>All-wheel drive</td>\n",
       "      <td>2.0</td>\n",
       "      <td>16.912736</td>\n",
       "    </tr>\n",
       "    <tr>\n",
       "      <th>4</th>\n",
       "      <td>210</td>\n",
       "      <td>1.0</td>\n",
       "      <td>140.0</td>\n",
       "      <td>3460.870990</td>\n",
       "      <td>14.4</td>\n",
       "      <td>2009</td>\n",
       "      <td>Europe</td>\n",
       "      <td>Gasoline</td>\n",
       "      <td>All-wheel drive</td>\n",
       "      <td>2.0</td>\n",
       "      <td>12.488369</td>\n",
       "    </tr>\n",
       "  </tbody>\n",
       "</table>\n",
       "</div>"
      ],
      "text/plain": [
       "   engine_displacement  num_cylinders  horsepower  vehicle_weight  \\\n",
       "0                  170            3.0       159.0     3413.433759   \n",
       "1                  130            5.0        97.0     3149.664934   \n",
       "2                  170            NaN        78.0     3079.038997   \n",
       "3                  220            4.0         NaN     2542.392402   \n",
       "4                  210            1.0       140.0     3460.870990   \n",
       "\n",
       "   acceleration  model_year  origin fuel_type         drivetrain  num_doors  \\\n",
       "0          17.7        2003  Europe  Gasoline    All-wheel drive        0.0   \n",
       "1          17.8        2007     USA  Gasoline  Front-wheel drive        0.0   \n",
       "2          15.1        2018  Europe  Gasoline  Front-wheel drive        0.0   \n",
       "3          20.2        2009     USA    Diesel    All-wheel drive        2.0   \n",
       "4          14.4        2009  Europe  Gasoline    All-wheel drive        2.0   \n",
       "\n",
       "   fuel_efficiency_mpg  \n",
       "0            13.231729  \n",
       "1            13.688217  \n",
       "2            14.246341  \n",
       "3            16.912736  \n",
       "4            12.488369  "
      ]
     },
     "execution_count": 221,
     "metadata": {},
     "output_type": "execute_result"
    }
   ],
   "source": [
    "df = pd.read_csv(\"car_fuel_efficiency.csv\")\n",
    "df.head()"
   ]
  },
  {
   "cell_type": "code",
   "execution_count": 271,
   "id": "331dce1c-7db7-401d-bfc4-0c77ad65fbbe",
   "metadata": {},
   "outputs": [
    {
     "data": {
      "text/html": [
       "<div>\n",
       "<style scoped>\n",
       "    .dataframe tbody tr th:only-of-type {\n",
       "        vertical-align: middle;\n",
       "    }\n",
       "\n",
       "    .dataframe tbody tr th {\n",
       "        vertical-align: top;\n",
       "    }\n",
       "\n",
       "    .dataframe thead th {\n",
       "        text-align: right;\n",
       "    }\n",
       "</style>\n",
       "<table border=\"1\" class=\"dataframe\">\n",
       "  <thead>\n",
       "    <tr style=\"text-align: right;\">\n",
       "      <th></th>\n",
       "      <th>engine_displacement</th>\n",
       "      <th>horsepower</th>\n",
       "      <th>vehicle_weight</th>\n",
       "      <th>model_year</th>\n",
       "      <th>fuel_efficiency_mpg</th>\n",
       "    </tr>\n",
       "  </thead>\n",
       "  <tbody>\n",
       "    <tr>\n",
       "      <th>0</th>\n",
       "      <td>170</td>\n",
       "      <td>159.0</td>\n",
       "      <td>3413.433759</td>\n",
       "      <td>2003</td>\n",
       "      <td>13.231729</td>\n",
       "    </tr>\n",
       "    <tr>\n",
       "      <th>1</th>\n",
       "      <td>130</td>\n",
       "      <td>97.0</td>\n",
       "      <td>3149.664934</td>\n",
       "      <td>2007</td>\n",
       "      <td>13.688217</td>\n",
       "    </tr>\n",
       "    <tr>\n",
       "      <th>2</th>\n",
       "      <td>170</td>\n",
       "      <td>78.0</td>\n",
       "      <td>3079.038997</td>\n",
       "      <td>2018</td>\n",
       "      <td>14.246341</td>\n",
       "    </tr>\n",
       "    <tr>\n",
       "      <th>3</th>\n",
       "      <td>220</td>\n",
       "      <td>NaN</td>\n",
       "      <td>2542.392402</td>\n",
       "      <td>2009</td>\n",
       "      <td>16.912736</td>\n",
       "    </tr>\n",
       "    <tr>\n",
       "      <th>4</th>\n",
       "      <td>210</td>\n",
       "      <td>140.0</td>\n",
       "      <td>3460.870990</td>\n",
       "      <td>2009</td>\n",
       "      <td>12.488369</td>\n",
       "    </tr>\n",
       "  </tbody>\n",
       "</table>\n",
       "</div>"
      ],
      "text/plain": [
       "   engine_displacement  horsepower  vehicle_weight  model_year  \\\n",
       "0                  170       159.0     3413.433759        2003   \n",
       "1                  130        97.0     3149.664934        2007   \n",
       "2                  170        78.0     3079.038997        2018   \n",
       "3                  220         NaN     2542.392402        2009   \n",
       "4                  210       140.0     3460.870990        2009   \n",
       "\n",
       "   fuel_efficiency_mpg  \n",
       "0            13.231729  \n",
       "1            13.688217  \n",
       "2            14.246341  \n",
       "3            16.912736  \n",
       "4            12.488369  "
      ]
     },
     "execution_count": 271,
     "metadata": {},
     "output_type": "execute_result"
    }
   ],
   "source": [
    "df_car = df[['engine_displacement','horsepower','vehicle_weight','model_year','fuel_efficiency_mpg']]\n",
    "df_car.head()"
   ]
  },
  {
   "cell_type": "markdown",
   "id": "734fa6cf-ba64-4ace-8686-1080416ced05",
   "metadata": {},
   "source": [
    "## EDA"
   ]
  },
  {
   "cell_type": "code",
   "execution_count": 223,
   "id": "012ec804-cfbf-48fd-9231-7e7a606dd7c0",
   "metadata": {},
   "outputs": [],
   "source": [
    "import matplotlib.pyplot as mt \n",
    "import seaborn as sns \n",
    "%matplotlib inline "
   ]
  },
  {
   "cell_type": "code",
   "execution_count": 224,
   "id": "967317ce-ba9b-4f76-80c2-c3dd20357921",
   "metadata": {},
   "outputs": [
    {
     "data": {
      "text/plain": [
       "<Axes: xlabel='fuel_efficiency_mpg', ylabel='Count'>"
      ]
     },
     "execution_count": 224,
     "metadata": {},
     "output_type": "execute_result"
    },
    {
     "data": {
      "image/png": "[encoded data removed]",
      "text/plain": [
       "<Figure size 640x480 with 1 Axes>"
      ]
     },
     "metadata": {},
     "output_type": "display_data"
    }
   ],
   "source": [
    "sns.histplot(df_car.fuel_efficiency_mpg, bins=50)"
   ]
  },
  {
   "cell_type": "code",
   "execution_count": 225,
   "id": "d72f7127-8acb-4475-a209-0eafd95f4f7f",
   "metadata": {},
   "outputs": [
    {
     "data": {
      "text/plain": [
       "<Axes: xlabel='fuel_efficiency_mpg', ylabel='Count'>"
      ]
     },
     "execution_count": 225,
     "metadata": {},
     "output_type": "execute_result"
    },
    {
     "data": {
      "image/png": "[encoded data removed]",
      "text/plain": [
       "<Figure size 640x480 with 1 Axes>"
      ]
     },
     "metadata": {},
     "output_type": "display_data"
    }
   ],
   "source": [
    "sns.histplot(df_car.fuel_efficiency_mpg, bins=50,log=True)"
   ]
  },
  {
   "cell_type": "markdown",
   "id": "493e00a0-fab2-4dee-bde5-45ebe5934f1c",
   "metadata": {},
   "source": [
    "## Question 1\n",
    "There's one column with missing values. What is it?\n",
    "\n",
    "* 'engine_displacement'\n",
    "* 'horsepower'\n",
    "* 'vehicle_weight'\n",
    "* 'model_year'"
   ]
  },
  {
   "cell_type": "markdown",
   "id": "c803bb5b-71ad-4ff5-8786-7585abc8bd6a",
   "metadata": {},
   "source": [
    "### varible df_car.fuel_efficiency_mpg does not have long tails its normal distribution"
   ]
  },
  {
   "cell_type": "code",
   "execution_count": 226,
   "id": "f8ab8f2f-2f1c-46b0-8185-46dbf680d661",
   "metadata": {},
   "outputs": [
    {
     "data": {
      "text/plain": [
       "engine_displacement      0\n",
       "horsepower             708\n",
       "vehicle_weight           0\n",
       "model_year               0\n",
       "fuel_efficiency_mpg      0\n",
       "dtype: int64"
      ]
     },
     "execution_count": 226,
     "metadata": {},
     "output_type": "execute_result"
    }
   ],
   "source": [
    "df_car.isnull().sum()"
   ]
  },
  {
   "cell_type": "markdown",
   "id": "43f97f5e-8620-4467-ab0f-6b661ae23b37",
   "metadata": {},
   "source": [
    "### column horsepower has 708 missing values "
   ]
  },
  {
   "cell_type": "markdown",
   "id": "fce29434-5df2-4e6b-9890-b0f34c085b61",
   "metadata": {},
   "source": [
    "## Question 2\n",
    "What's the median (50% percentile) for variable 'horsepower'?\n",
    "\n",
    "\n",
    "* 49\n",
    "* 99\n",
    "* 149\n",
    "* 199"
   ]
  },
  {
   "cell_type": "code",
   "execution_count": 227,
   "id": "6745847d-7140-46c0-ac4c-08b41c4baf13",
   "metadata": {},
   "outputs": [
    {
     "data": {
      "text/plain": [
       "np.float64(149.0)"
      ]
     },
     "execution_count": 227,
     "metadata": {},
     "output_type": "execute_result"
    }
   ],
   "source": [
    "df_car.horsepower.median()"
   ]
  },
  {
   "cell_type": "markdown",
   "id": "64deea90-ac74-46d8-af1b-87611960c6d5",
   "metadata": {},
   "source": [
    "### Median for variable horsepower is 149"
   ]
  },
  {
   "cell_type": "markdown",
   "id": "24be4860-ecbe-4821-9793-3b47496cd65f",
   "metadata": {},
   "source": [
    "## Prepare and split the dataset\n"
   ]
  },
  {
   "cell_type": "code",
   "execution_count": 228,
   "id": "e9ba5cf3-a855-4bf1-9cfa-7c1844703c46",
   "metadata": {},
   "outputs": [
    {
     "data": {
      "text/plain": [
       "9704"
      ]
     },
     "execution_count": 228,
     "metadata": {},
     "output_type": "execute_result"
    }
   ],
   "source": [
    "n = len(df_car)\n",
    "n"
   ]
  },
  {
   "cell_type": "code",
   "execution_count": 229,
   "id": "9923c17a-e525-4129-87f8-7482a9f68038",
   "metadata": {},
   "outputs": [
    {
     "data": {
      "text/plain": [
       "(1940, 1940, 5824)"
      ]
     },
     "execution_count": 229,
     "metadata": {},
     "output_type": "execute_result"
    }
   ],
   "source": [
    "n_val = int(n *0.20 )\n",
    "n_test = int(n *0.20 )\n",
    "n_train = n - n_val - n_test\n",
    "n_test, n_val, n_train"
   ]
  },
  {
   "cell_type": "code",
   "execution_count": 230,
   "id": "34eb3729-f13a-4735-9aa6-56954bee7c17",
   "metadata": {},
   "outputs": [
    {
     "data": {
      "text/plain": [
       "array([ 483, 7506, 8795, ..., 5390,  860, 7270], shape=(9704,))"
      ]
     },
     "execution_count": 230,
     "metadata": {},
     "output_type": "execute_result"
    }
   ],
   "source": [
    "idx = np.arange(n)\n",
    "np.random.seed(42)\n",
    "np.random.shuffle(idx)\n",
    "idx"
   ]
  },
  {
   "cell_type": "code",
   "execution_count": 231,
   "id": "11b2a9c7-7b4e-44b0-8b1e-20d7d1130f4a",
   "metadata": {},
   "outputs": [
    {
     "data": {
      "text/plain": [
       "engine_displacement      int64\n",
       "horsepower             float64\n",
       "vehicle_weight         float64\n",
       "model_year               int64\n",
       "fuel_efficiency_mpg    float64\n",
       "dtype: object"
      ]
     },
     "execution_count": 231,
     "metadata": {},
     "output_type": "execute_result"
    }
   ],
   "source": [
    "df_train = df_car.iloc[idx[:n_train]]\n",
    "df_val = df_car.iloc[idx[n_train:n_train+n_val]]\n",
    "df_test = df_car.iloc[idx[n_train+n_val:]]\n",
    "df_train.dtypes"
   ]
  },
  {
   "cell_type": "code",
   "execution_count": 232,
   "id": "6950b08c-45f0-4c30-bc55-c1224db86e29",
   "metadata": {},
   "outputs": [
    {
     "data": {
      "text/plain": [
       "(5824, 1940, 1940)"
      ]
     },
     "execution_count": 232,
     "metadata": {},
     "output_type": "execute_result"
    }
   ],
   "source": [
    "len(df_train),len(df_val),len(df_test)"
   ]
  },
  {
   "cell_type": "code",
   "execution_count": 233,
   "id": "e20caa0a-8a6c-4146-b2b1-d9c2a4a9b7aa",
   "metadata": {},
   "outputs": [],
   "source": [
    "df_train = df_train.reset_index(drop=True)\n",
    "df_val = df_val.reset_index(drop=True)\n",
    "df_test = df_test.reset_index(drop=True)\n",
    "\n"
   ]
  },
  {
   "cell_type": "code",
   "execution_count": 234,
   "id": "9a463dad-270f-41f9-ae16-e57446890e25",
   "metadata": {},
   "outputs": [
    {
     "data": {
      "text/plain": [
       "(5824, 1940, 1940)"
      ]
     },
     "execution_count": 234,
     "metadata": {},
     "output_type": "execute_result"
    }
   ],
   "source": [
    "y_train = np.log1p(df_train.fuel_efficiency_mpg.values)\n",
    "y_val = np.log1p(df_val.fuel_efficiency_mpg.values)\n",
    "y_test = np.log1p(df_test.fuel_efficiency_mpg.values)\n",
    "\n",
    "len(y_train),len(y_val),len(y_test)"
   ]
  },
  {
   "cell_type": "code",
   "execution_count": 235,
   "id": "2cc7bd9c-e5f4-437c-985e-b082ce39303a",
   "metadata": {},
   "outputs": [
    {
     "data": {
      "text/plain": [
       "array([2.8703359 , 2.85061269, 2.97511223, ..., 2.92279789, 2.99201277,\n",
       "       2.94261017], shape=(5824,))"
      ]
     },
     "execution_count": 235,
     "metadata": {},
     "output_type": "execute_result"
    }
   ],
   "source": [
    "y_train"
   ]
  },
  {
   "cell_type": "markdown",
   "id": "51410200-2218-47a4-a3c9-dbd0946eeaa3",
   "metadata": {},
   "source": [
    "## Question 3\n",
    "- We need to deal with missing values for the column from Q1.\n",
    "- We have two options: fill it with 0 or with the mean of this variable.\n",
    "- Try both options. For each, train a linear regression model without regularization using the code from the lessons.\n",
    "- For computing the mean, use the training only!\n",
    "- Use the validation dataset to evaluate the models and compare the RMSE of each option.\n",
    "- Round the RMSE scores to 2 decimal digits using round(score, 2)\n",
    "- Which option gives better RMSE?\n",
    "\n",
    "- Options:\n",
    "\n",
    "    * With 0\n",
    "    * With mean\n",
    "    * Both are equally good"
   ]
  },
  {
   "cell_type": "code",
   "execution_count": 236,
   "id": "14504753-f2df-4c9c-8388-0df82a83de16",
   "metadata": {},
   "outputs": [
    {
     "data": {
      "text/plain": [
       "engine_displacement      0\n",
       "horsepower             429\n",
       "vehicle_weight           0\n",
       "model_year               0\n",
       "fuel_efficiency_mpg      0\n",
       "dtype: int64"
      ]
     },
     "execution_count": 236,
     "metadata": {},
     "output_type": "execute_result"
    }
   ],
   "source": [
    "df_train.isnull().sum()\n"
   ]
  },
  {
   "cell_type": "code",
   "execution_count": 237,
   "id": "2422b00c-e633-4db5-b17f-7b9eed8e513b",
   "metadata": {},
   "outputs": [],
   "source": [
    "df_train_zero = df_train.fillna('0')"
   ]
  },
  {
   "cell_type": "code",
   "execution_count": 238,
   "id": "134e89f3-cfd0-4e36-bce1-aaf19086be63",
   "metadata": {},
   "outputs": [
    {
     "data": {
      "text/html": [
       "<div>\n",
       "<style scoped>\n",
       "    .dataframe tbody tr th:only-of-type {\n",
       "        vertical-align: middle;\n",
       "    }\n",
       "\n",
       "    .dataframe tbody tr th {\n",
       "        vertical-align: top;\n",
       "    }\n",
       "\n",
       "    .dataframe thead th {\n",
       "        text-align: right;\n",
       "    }\n",
       "</style>\n",
       "<table border=\"1\" class=\"dataframe\">\n",
       "  <thead>\n",
       "    <tr style=\"text-align: right;\">\n",
       "      <th></th>\n",
       "      <th>engine_displacement</th>\n",
       "      <th>horsepower</th>\n",
       "      <th>vehicle_weight</th>\n",
       "      <th>model_year</th>\n",
       "      <th>fuel_efficiency_mpg</th>\n",
       "    </tr>\n",
       "  </thead>\n",
       "  <tbody>\n",
       "    <tr>\n",
       "      <th>0</th>\n",
       "      <td>220</td>\n",
       "      <td>144.0</td>\n",
       "      <td>2535.887591</td>\n",
       "      <td>2009</td>\n",
       "      <td>16.642943</td>\n",
       "    </tr>\n",
       "    <tr>\n",
       "      <th>1</th>\n",
       "      <td>160</td>\n",
       "      <td>141.0</td>\n",
       "      <td>2741.170484</td>\n",
       "      <td>2019</td>\n",
       "      <td>16.298377</td>\n",
       "    </tr>\n",
       "    <tr>\n",
       "      <th>2</th>\n",
       "      <td>230</td>\n",
       "      <td>155.0</td>\n",
       "      <td>2471.880237</td>\n",
       "      <td>2017</td>\n",
       "      <td>18.591822</td>\n",
       "    </tr>\n",
       "    <tr>\n",
       "      <th>3</th>\n",
       "      <td>150</td>\n",
       "      <td>206.0</td>\n",
       "      <td>3748.164469</td>\n",
       "      <td>2015</td>\n",
       "      <td>11.818843</td>\n",
       "    </tr>\n",
       "    <tr>\n",
       "      <th>4</th>\n",
       "      <td>300</td>\n",
       "      <td>111.0</td>\n",
       "      <td>2135.716359</td>\n",
       "      <td>2006</td>\n",
       "      <td>19.402209</td>\n",
       "    </tr>\n",
       "    <tr>\n",
       "      <th>...</th>\n",
       "      <td>...</td>\n",
       "      <td>...</td>\n",
       "      <td>...</td>\n",
       "      <td>...</td>\n",
       "      <td>...</td>\n",
       "    </tr>\n",
       "    <tr>\n",
       "      <th>5819</th>\n",
       "      <td>260</td>\n",
       "      <td>139.0</td>\n",
       "      <td>2606.972984</td>\n",
       "      <td>2009</td>\n",
       "      <td>16.964054</td>\n",
       "    </tr>\n",
       "    <tr>\n",
       "      <th>5820</th>\n",
       "      <td>280</td>\n",
       "      <td>132.0</td>\n",
       "      <td>4004.214323</td>\n",
       "      <td>2014</td>\n",
       "      <td>10.059094</td>\n",
       "    </tr>\n",
       "    <tr>\n",
       "      <th>5821</th>\n",
       "      <td>210</td>\n",
       "      <td>152.0</td>\n",
       "      <td>2500.175687</td>\n",
       "      <td>2020</td>\n",
       "      <td>17.593237</td>\n",
       "    </tr>\n",
       "    <tr>\n",
       "      <th>5822</th>\n",
       "      <td>250</td>\n",
       "      <td>154.0</td>\n",
       "      <td>2254.313245</td>\n",
       "      <td>2002</td>\n",
       "      <td>18.925748</td>\n",
       "    </tr>\n",
       "    <tr>\n",
       "      <th>5823</th>\n",
       "      <td>210</td>\n",
       "      <td>152.0</td>\n",
       "      <td>2435.203606</td>\n",
       "      <td>2004</td>\n",
       "      <td>17.965284</td>\n",
       "    </tr>\n",
       "  </tbody>\n",
       "</table>\n",
       "<p>5824 rows × 5 columns</p>\n",
       "</div>"
      ],
      "text/plain": [
       "      engine_displacement horsepower  vehicle_weight  model_year  \\\n",
       "0                     220      144.0     2535.887591        2009   \n",
       "1                     160      141.0     2741.170484        2019   \n",
       "2                     230      155.0     2471.880237        2017   \n",
       "3                     150      206.0     3748.164469        2015   \n",
       "4                     300      111.0     2135.716359        2006   \n",
       "...                   ...        ...             ...         ...   \n",
       "5819                  260      139.0     2606.972984        2009   \n",
       "5820                  280      132.0     4004.214323        2014   \n",
       "5821                  210      152.0     2500.175687        2020   \n",
       "5822                  250      154.0     2254.313245        2002   \n",
       "5823                  210      152.0     2435.203606        2004   \n",
       "\n",
       "      fuel_efficiency_mpg  \n",
       "0               16.642943  \n",
       "1               16.298377  \n",
       "2               18.591822  \n",
       "3               11.818843  \n",
       "4               19.402209  \n",
       "...                   ...  \n",
       "5819            16.964054  \n",
       "5820            10.059094  \n",
       "5821            17.593237  \n",
       "5822            18.925748  \n",
       "5823            17.965284  \n",
       "\n",
       "[5824 rows x 5 columns]"
      ]
     },
     "execution_count": 238,
     "metadata": {},
     "output_type": "execute_result"
    }
   ],
   "source": [
    "df_train_zero"
   ]
  },
  {
   "cell_type": "code",
   "execution_count": 239,
   "id": "e90b6857-e0ad-494e-bd87-1fa2a8385791",
   "metadata": {},
   "outputs": [
    {
     "data": {
      "text/plain": [
       "engine_displacement    0\n",
       "horsepower             0\n",
       "vehicle_weight         0\n",
       "model_year             0\n",
       "fuel_efficiency_mpg    0\n",
       "dtype: int64"
      ]
     },
     "execution_count": 239,
     "metadata": {},
     "output_type": "execute_result"
    }
   ],
   "source": [
    "df_train_zero.isnull().sum()"
   ]
  },
  {
   "cell_type": "code",
   "execution_count": 240,
   "id": "f1f3a99b-8097-4a4f-81d7-d428ef801d68",
   "metadata": {},
   "outputs": [
    {
     "data": {
      "text/html": [
       "<div>\n",
       "<style scoped>\n",
       "    .dataframe tbody tr th:only-of-type {\n",
       "        vertical-align: middle;\n",
       "    }\n",
       "\n",
       "    .dataframe tbody tr th {\n",
       "        vertical-align: top;\n",
       "    }\n",
       "\n",
       "    .dataframe thead th {\n",
       "        text-align: right;\n",
       "    }\n",
       "</style>\n",
       "<table border=\"1\" class=\"dataframe\">\n",
       "  <thead>\n",
       "    <tr style=\"text-align: right;\">\n",
       "      <th></th>\n",
       "      <th>engine_displacement</th>\n",
       "      <th>horsepower</th>\n",
       "      <th>vehicle_weight</th>\n",
       "      <th>model_year</th>\n",
       "      <th>fuel_efficiency_mpg</th>\n",
       "    </tr>\n",
       "  </thead>\n",
       "  <tbody>\n",
       "    <tr>\n",
       "      <th>0</th>\n",
       "      <td>220</td>\n",
       "      <td>144.0</td>\n",
       "      <td>2535.887591</td>\n",
       "      <td>2009</td>\n",
       "      <td>16.642943</td>\n",
       "    </tr>\n",
       "    <tr>\n",
       "      <th>1</th>\n",
       "      <td>160</td>\n",
       "      <td>141.0</td>\n",
       "      <td>2741.170484</td>\n",
       "      <td>2019</td>\n",
       "      <td>16.298377</td>\n",
       "    </tr>\n",
       "    <tr>\n",
       "      <th>2</th>\n",
       "      <td>230</td>\n",
       "      <td>155.0</td>\n",
       "      <td>2471.880237</td>\n",
       "      <td>2017</td>\n",
       "      <td>18.591822</td>\n",
       "    </tr>\n",
       "    <tr>\n",
       "      <th>3</th>\n",
       "      <td>150</td>\n",
       "      <td>206.0</td>\n",
       "      <td>3748.164469</td>\n",
       "      <td>2015</td>\n",
       "      <td>11.818843</td>\n",
       "    </tr>\n",
       "    <tr>\n",
       "      <th>4</th>\n",
       "      <td>300</td>\n",
       "      <td>111.0</td>\n",
       "      <td>2135.716359</td>\n",
       "      <td>2006</td>\n",
       "      <td>19.402209</td>\n",
       "    </tr>\n",
       "    <tr>\n",
       "      <th>...</th>\n",
       "      <td>...</td>\n",
       "      <td>...</td>\n",
       "      <td>...</td>\n",
       "      <td>...</td>\n",
       "      <td>...</td>\n",
       "    </tr>\n",
       "    <tr>\n",
       "      <th>5819</th>\n",
       "      <td>260</td>\n",
       "      <td>139.0</td>\n",
       "      <td>2606.972984</td>\n",
       "      <td>2009</td>\n",
       "      <td>16.964054</td>\n",
       "    </tr>\n",
       "    <tr>\n",
       "      <th>5820</th>\n",
       "      <td>280</td>\n",
       "      <td>132.0</td>\n",
       "      <td>4004.214323</td>\n",
       "      <td>2014</td>\n",
       "      <td>10.059094</td>\n",
       "    </tr>\n",
       "    <tr>\n",
       "      <th>5821</th>\n",
       "      <td>210</td>\n",
       "      <td>152.0</td>\n",
       "      <td>2500.175687</td>\n",
       "      <td>2020</td>\n",
       "      <td>17.593237</td>\n",
       "    </tr>\n",
       "    <tr>\n",
       "      <th>5822</th>\n",
       "      <td>250</td>\n",
       "      <td>154.0</td>\n",
       "      <td>2254.313245</td>\n",
       "      <td>2002</td>\n",
       "      <td>18.925748</td>\n",
       "    </tr>\n",
       "    <tr>\n",
       "      <th>5823</th>\n",
       "      <td>210</td>\n",
       "      <td>152.0</td>\n",
       "      <td>2435.203606</td>\n",
       "      <td>2004</td>\n",
       "      <td>17.965284</td>\n",
       "    </tr>\n",
       "  </tbody>\n",
       "</table>\n",
       "<p>5824 rows × 5 columns</p>\n",
       "</div>"
      ],
      "text/plain": [
       "      engine_displacement  horsepower  vehicle_weight  model_year  \\\n",
       "0                     220       144.0     2535.887591        2009   \n",
       "1                     160       141.0     2741.170484        2019   \n",
       "2                     230       155.0     2471.880237        2017   \n",
       "3                     150       206.0     3748.164469        2015   \n",
       "4                     300       111.0     2135.716359        2006   \n",
       "...                   ...         ...             ...         ...   \n",
       "5819                  260       139.0     2606.972984        2009   \n",
       "5820                  280       132.0     4004.214323        2014   \n",
       "5821                  210       152.0     2500.175687        2020   \n",
       "5822                  250       154.0     2254.313245        2002   \n",
       "5823                  210       152.0     2435.203606        2004   \n",
       "\n",
       "      fuel_efficiency_mpg  \n",
       "0               16.642943  \n",
       "1               16.298377  \n",
       "2               18.591822  \n",
       "3               11.818843  \n",
       "4               19.402209  \n",
       "...                   ...  \n",
       "5819            16.964054  \n",
       "5820            10.059094  \n",
       "5821            17.593237  \n",
       "5822            18.925748  \n",
       "5823            17.965284  \n",
       "\n",
       "[5824 rows x 5 columns]"
      ]
     },
     "execution_count": 240,
     "metadata": {},
     "output_type": "execute_result"
    }
   ],
   "source": [
    "df_train_mean = df_train.copy()\n",
    "df_train_mean['horsepower'] = df_train['horsepower'].fillna(df_train['horsepower'].mean())\n",
    "df_train_mean"
   ]
  },
  {
   "cell_type": "code",
   "execution_count": 241,
   "id": "e68667a7-9e0d-47df-8a74-d53dcab9849d",
   "metadata": {},
   "outputs": [
    {
     "data": {
      "text/plain": [
       "engine_displacement    0\n",
       "horsepower             0\n",
       "vehicle_weight         0\n",
       "model_year             0\n",
       "fuel_efficiency_mpg    0\n",
       "dtype: int64"
      ]
     },
     "execution_count": 241,
     "metadata": {},
     "output_type": "execute_result"
    }
   ],
   "source": [
    "df_train_mean.isnull().sum()"
   ]
  },
  {
   "cell_type": "code",
   "execution_count": 242,
   "id": "d2d1a785-ebc7-4465-b33e-bbeae038f8f0",
   "metadata": {},
   "outputs": [
    {
     "data": {
      "text/plain": [
       "149"
      ]
     },
     "execution_count": 242,
     "metadata": {},
     "output_type": "execute_result"
    }
   ],
   "source": [
    "mean_v = int(df_train['horsepower'].mean())\n",
    "mean_v"
   ]
  },
  {
   "cell_type": "code",
   "execution_count": 243,
   "id": "de996062-a844-4f75-baec-ebf849266267",
   "metadata": {},
   "outputs": [
    {
     "data": {
      "text/plain": [
       "engine_displacement      0\n",
       "horsepower             143\n",
       "vehicle_weight           0\n",
       "model_year               0\n",
       "fuel_efficiency_mpg      0\n",
       "dtype: int64"
      ]
     },
     "execution_count": 243,
     "metadata": {},
     "output_type": "execute_result"
    }
   ],
   "source": [
    "df_test.isnull().sum()\n"
   ]
  },
  {
   "cell_type": "code",
   "execution_count": 244,
   "id": "4c1ccafa-26e8-4259-9155-b17a2d019241",
   "metadata": {},
   "outputs": [],
   "source": [
    "df_test_zero = df_test.fillna('0')"
   ]
  },
  {
   "cell_type": "code",
   "execution_count": 245,
   "id": "604aa7f6-9147-4df6-99ef-84c35b935486",
   "metadata": {},
   "outputs": [
    {
     "data": {
      "text/plain": [
       "engine_displacement      0\n",
       "horsepower             136\n",
       "vehicle_weight           0\n",
       "model_year               0\n",
       "fuel_efficiency_mpg      0\n",
       "dtype: int64"
      ]
     },
     "execution_count": 245,
     "metadata": {},
     "output_type": "execute_result"
    }
   ],
   "source": [
    "df_val.isnull().sum()\n"
   ]
  },
  {
   "cell_type": "code",
   "execution_count": 246,
   "id": "7d6cf37d-a3b5-4e4a-8570-065d1562ea44",
   "metadata": {},
   "outputs": [],
   "source": [
    "df_train_mean = df_train.copy()\n",
    "df_val_zero = df_val.fillna('0')"
   ]
  },
  {
   "cell_type": "code",
   "execution_count": 247,
   "id": "cddfb037-9883-42dd-b75a-294d2a1584e1",
   "metadata": {},
   "outputs": [
    {
     "data": {
      "text/html": [
       "<div>\n",
       "<style scoped>\n",
       "    .dataframe tbody tr th:only-of-type {\n",
       "        vertical-align: middle;\n",
       "    }\n",
       "\n",
       "    .dataframe tbody tr th {\n",
       "        vertical-align: top;\n",
       "    }\n",
       "\n",
       "    .dataframe thead th {\n",
       "        text-align: right;\n",
       "    }\n",
       "</style>\n",
       "<table border=\"1\" class=\"dataframe\">\n",
       "  <thead>\n",
       "    <tr style=\"text-align: right;\">\n",
       "      <th></th>\n",
       "      <th>engine_displacement</th>\n",
       "      <th>horsepower</th>\n",
       "      <th>vehicle_weight</th>\n",
       "      <th>model_year</th>\n",
       "      <th>fuel_efficiency_mpg</th>\n",
       "    </tr>\n",
       "  </thead>\n",
       "  <tbody>\n",
       "    <tr>\n",
       "      <th>0</th>\n",
       "      <td>180</td>\n",
       "      <td>112.0</td>\n",
       "      <td>2772.134410</td>\n",
       "      <td>2020</td>\n",
       "      <td>15.366341</td>\n",
       "    </tr>\n",
       "    <tr>\n",
       "      <th>1</th>\n",
       "      <td>260</td>\n",
       "      <td>138.0</td>\n",
       "      <td>3014.061530</td>\n",
       "      <td>2022</td>\n",
       "      <td>14.601182</td>\n",
       "    </tr>\n",
       "    <tr>\n",
       "      <th>2</th>\n",
       "      <td>140</td>\n",
       "      <td>181.0</td>\n",
       "      <td>3652.186151</td>\n",
       "      <td>2016</td>\n",
       "      <td>12.247032</td>\n",
       "    </tr>\n",
       "    <tr>\n",
       "      <th>3</th>\n",
       "      <td>270</td>\n",
       "      <td>105.0</td>\n",
       "      <td>2753.040847</td>\n",
       "      <td>2023</td>\n",
       "      <td>15.136400</td>\n",
       "    </tr>\n",
       "    <tr>\n",
       "      <th>4</th>\n",
       "      <td>170</td>\n",
       "      <td>224.0</td>\n",
       "      <td>4163.375137</td>\n",
       "      <td>2003</td>\n",
       "      <td>10.340419</td>\n",
       "    </tr>\n",
       "    <tr>\n",
       "      <th>...</th>\n",
       "      <td>...</td>\n",
       "      <td>...</td>\n",
       "      <td>...</td>\n",
       "      <td>...</td>\n",
       "      <td>...</td>\n",
       "    </tr>\n",
       "    <tr>\n",
       "      <th>1935</th>\n",
       "      <td>290</td>\n",
       "      <td>205.0</td>\n",
       "      <td>3403.401496</td>\n",
       "      <td>2019</td>\n",
       "      <td>13.868607</td>\n",
       "    </tr>\n",
       "    <tr>\n",
       "      <th>1936</th>\n",
       "      <td>200</td>\n",
       "      <td>159.0</td>\n",
       "      <td>2752.516039</td>\n",
       "      <td>2009</td>\n",
       "      <td>15.665403</td>\n",
       "    </tr>\n",
       "    <tr>\n",
       "      <th>1937</th>\n",
       "      <td>230</td>\n",
       "      <td>202.0</td>\n",
       "      <td>3303.000688</td>\n",
       "      <td>2008</td>\n",
       "      <td>13.613127</td>\n",
       "    </tr>\n",
       "    <tr>\n",
       "      <th>1938</th>\n",
       "      <td>220</td>\n",
       "      <td>169.0</td>\n",
       "      <td>3293.420251</td>\n",
       "      <td>2008</td>\n",
       "      <td>13.733343</td>\n",
       "    </tr>\n",
       "    <tr>\n",
       "      <th>1939</th>\n",
       "      <td>200</td>\n",
       "      <td>117.0</td>\n",
       "      <td>2692.781292</td>\n",
       "      <td>2004</td>\n",
       "      <td>15.816050</td>\n",
       "    </tr>\n",
       "  </tbody>\n",
       "</table>\n",
       "<p>1940 rows × 5 columns</p>\n",
       "</div>"
      ],
      "text/plain": [
       "      engine_displacement  horsepower  vehicle_weight  model_year  \\\n",
       "0                     180       112.0     2772.134410        2020   \n",
       "1                     260       138.0     3014.061530        2022   \n",
       "2                     140       181.0     3652.186151        2016   \n",
       "3                     270       105.0     2753.040847        2023   \n",
       "4                     170       224.0     4163.375137        2003   \n",
       "...                   ...         ...             ...         ...   \n",
       "1935                  290       205.0     3403.401496        2019   \n",
       "1936                  200       159.0     2752.516039        2009   \n",
       "1937                  230       202.0     3303.000688        2008   \n",
       "1938                  220       169.0     3293.420251        2008   \n",
       "1939                  200       117.0     2692.781292        2004   \n",
       "\n",
       "      fuel_efficiency_mpg  \n",
       "0               15.366341  \n",
       "1               14.601182  \n",
       "2               12.247032  \n",
       "3               15.136400  \n",
       "4               10.340419  \n",
       "...                   ...  \n",
       "1935            13.868607  \n",
       "1936            15.665403  \n",
       "1937            13.613127  \n",
       "1938            13.733343  \n",
       "1939            15.816050  \n",
       "\n",
       "[1940 rows x 5 columns]"
      ]
     },
     "execution_count": 247,
     "metadata": {},
     "output_type": "execute_result"
    }
   ],
   "source": [
    "df_val_mean = df_val.copy()\n",
    "\n",
    "df_val_mean['horsepower'] = df_val['horsepower'].fillna(mean_v)\n",
    "df_val_mean"
   ]
  },
  {
   "cell_type": "code",
   "execution_count": 248,
   "id": "17d5d62f-b847-462a-9ae2-e0ff3e2ab0e2",
   "metadata": {},
   "outputs": [
    {
     "data": {
      "text/plain": [
       "(np.float64(25844.754055766753),\n",
       " array([ -16.08906468, -199.47254894,   -1.22802883]))"
      ]
     },
     "execution_count": 248,
     "metadata": {},
     "output_type": "execute_result"
    }
   ],
   "source": [
    "X = [\n",
    "    [148, 24, 1385],\n",
    "    [132, 25, 2031],\n",
    "    [453, 11, 86],\n",
    "    [158, 24, 185],\n",
    "    [172, 25, 201],\n",
    "    [413, 11, 86],\n",
    "    [38,  54, 185],\n",
    "    [142, 25, 431],\n",
    "    [453, 31, 86],\n",
    "]\n",
    "\n",
    "X = np.array(X)\n",
    "ones = np.ones(X.shape[0])\n",
    "X = np.column_stack([ones, X])\n",
    "y = [10000, 20000, 15000, 20050, 10000, 20000, 15000, 25000, 12000]\n",
    "XTX = X.T.dot(X)\n",
    "XTX_inv = np.linalg.inv(XTX)\n",
    "w_full = XTX_inv.dot(X.T).dot(y)\n",
    "w_full[0], w_full[1:]\n"
   ]
  },
  {
   "cell_type": "code",
   "execution_count": 249,
   "id": "53f0153d-5294-46f8-b49a-d0d8afccc7b7",
   "metadata": {},
   "outputs": [],
   "source": [
    "def dot(xi, w):\n",
    "    n = len(xi)\n",
    "    \n",
    "    res = 0.0\n",
    "    \n",
    "    for j in range(n):\n",
    "        res = res + xi[j] * w[j]\n",
    "    \n",
    "    return res"
   ]
  },
  {
   "cell_type": "code",
   "execution_count": 250,
   "id": "67197e1a-8de7-4708-86a9-5d08c4d201d5",
   "metadata": {},
   "outputs": [
    {
     "data": {
      "text/plain": [
       "0       148.0\n",
       "1       136.0\n",
       "2       152.0\n",
       "3       128.0\n",
       "4       156.0\n",
       "        ...  \n",
       "1935    163.0\n",
       "1936    126.0\n",
       "1937    187.0\n",
       "1938    129.0\n",
       "1939    147.0\n",
       "Name: horsepower, Length: 1940, dtype: float64"
      ]
     },
     "execution_count": 250,
     "metadata": {},
     "output_type": "execute_result"
    }
   ],
   "source": [
    "df_test_mean = df_test['horsepower'].fillna(mean_v)\n",
    "df_test_mean"
   ]
  },
  {
   "cell_type": "code",
   "execution_count": 251,
   "id": "c3cffbbd-6828-4617-ae48-358d9e262ee1",
   "metadata": {},
   "outputs": [
    {
     "data": {
      "text/plain": [
       "'\\nnp.float64(12922.377027881685),\\n array([ 1.29223770e+04, -1.60890647e+01, -1.99472549e+02, -1.22802883e+00]))\\n'"
      ]
     },
     "execution_count": 251,
     "metadata": {},
     "output_type": "execute_result"
    }
   ],
   "source": [
    "import numpy as np\n",
    "\n",
    "def train_linear_regression_latest(X, y, *, dtype=float):\n",
    "    X = np.array(X, dtype=dtype)\n",
    "    y = np.array(y, dtype=dtype)\n",
    "\n",
    "    ones = np.ones(X.shape[0], dtype=dtype)\n",
    "    X = np.column_stack([ones, X])\n",
    "    XTX = X.T.dot(X)\n",
    "    XTX = XTX + r * np.eye(XTX.shape[0])\n",
    "\n",
    "    XTX_inv = np.linalg.inv(XTX)\n",
    "    w_full = XTX_inv.dot(X.T).dot(y)\n",
    "\n",
    "    #w_full, *_ = np.linalg.lstsq(X, y, rcond=None)\n",
    "    return w_full[0], w_full[1:]\n",
    "\n",
    "X1 = [\n",
    "    [148, 24, 1385],\n",
    "    [132, 25, 2031],\n",
    "    [453, 11, 86],\n",
    "    [158, 24, 185],\n",
    "    [172, 25, 201],\n",
    "    [413, 11, 86],\n",
    "    [38,  54, 185],\n",
    "    [142, 25, 431],\n",
    "    [453, 31, 86],\n",
    "]\n",
    "y1 = [10000, 20000, 15000, 20050, 10000, 20000, 15000, 25000, 12000]\n",
    "train_linear_regression_latest(X1, y1)\n",
    "\n",
    "'''\n",
    "np.float64(12922.377027881685),\n",
    " array([ 1.29223770e+04, -1.60890647e+01, -1.99472549e+02, -1.22802883e+00]))\n",
    "'''"
   ]
  },
  {
   "cell_type": "code",
   "execution_count": 301,
   "id": "e609567b-d8f8-4cce-bc37-71a363086e6c",
   "metadata": {},
   "outputs": [],
   "source": [
    "def prepare_X(df):\n",
    "    #df_num = df[base]\n",
    "    df_num = df.fillna(0)\n",
    "    X = df_num.values\n",
    "    return X"
   ]
  },
  {
   "cell_type": "code",
   "execution_count": 253,
   "id": "4542ff0d-b8a3-4bfa-a60c-3816a2777d33",
   "metadata": {},
   "outputs": [],
   "source": [
    "def rmse(y, y_pred):\n",
    "    se = (y - y_pred) ** 2\n",
    "    mse = se.mean()\n",
    "    return np.sqrt(mse)"
   ]
  },
  {
   "cell_type": "code",
   "execution_count": 254,
   "id": "9bea7ed8-a772-4193-a2c1-0af84622b3a8",
   "metadata": {},
   "outputs": [
    {
     "data": {
      "text/html": [
       "<div>\n",
       "<style scoped>\n",
       "    .dataframe tbody tr th:only-of-type {\n",
       "        vertical-align: middle;\n",
       "    }\n",
       "\n",
       "    .dataframe tbody tr th {\n",
       "        vertical-align: top;\n",
       "    }\n",
       "\n",
       "    .dataframe thead th {\n",
       "        text-align: right;\n",
       "    }\n",
       "</style>\n",
       "<table border=\"1\" class=\"dataframe\">\n",
       "  <thead>\n",
       "    <tr style=\"text-align: right;\">\n",
       "      <th></th>\n",
       "      <th>engine_displacement</th>\n",
       "      <th>horsepower</th>\n",
       "      <th>vehicle_weight</th>\n",
       "      <th>model_year</th>\n",
       "      <th>fuel_efficiency_mpg</th>\n",
       "    </tr>\n",
       "  </thead>\n",
       "  <tbody>\n",
       "    <tr>\n",
       "      <th>0</th>\n",
       "      <td>220</td>\n",
       "      <td>144.0</td>\n",
       "      <td>2535.887591</td>\n",
       "      <td>2009</td>\n",
       "      <td>16.642943</td>\n",
       "    </tr>\n",
       "    <tr>\n",
       "      <th>1</th>\n",
       "      <td>160</td>\n",
       "      <td>141.0</td>\n",
       "      <td>2741.170484</td>\n",
       "      <td>2019</td>\n",
       "      <td>16.298377</td>\n",
       "    </tr>\n",
       "    <tr>\n",
       "      <th>2</th>\n",
       "      <td>230</td>\n",
       "      <td>155.0</td>\n",
       "      <td>2471.880237</td>\n",
       "      <td>2017</td>\n",
       "      <td>18.591822</td>\n",
       "    </tr>\n",
       "    <tr>\n",
       "      <th>3</th>\n",
       "      <td>150</td>\n",
       "      <td>206.0</td>\n",
       "      <td>3748.164469</td>\n",
       "      <td>2015</td>\n",
       "      <td>11.818843</td>\n",
       "    </tr>\n",
       "    <tr>\n",
       "      <th>4</th>\n",
       "      <td>300</td>\n",
       "      <td>111.0</td>\n",
       "      <td>2135.716359</td>\n",
       "      <td>2006</td>\n",
       "      <td>19.402209</td>\n",
       "    </tr>\n",
       "    <tr>\n",
       "      <th>...</th>\n",
       "      <td>...</td>\n",
       "      <td>...</td>\n",
       "      <td>...</td>\n",
       "      <td>...</td>\n",
       "      <td>...</td>\n",
       "    </tr>\n",
       "    <tr>\n",
       "      <th>5819</th>\n",
       "      <td>260</td>\n",
       "      <td>139.0</td>\n",
       "      <td>2606.972984</td>\n",
       "      <td>2009</td>\n",
       "      <td>16.964054</td>\n",
       "    </tr>\n",
       "    <tr>\n",
       "      <th>5820</th>\n",
       "      <td>280</td>\n",
       "      <td>132.0</td>\n",
       "      <td>4004.214323</td>\n",
       "      <td>2014</td>\n",
       "      <td>10.059094</td>\n",
       "    </tr>\n",
       "    <tr>\n",
       "      <th>5821</th>\n",
       "      <td>210</td>\n",
       "      <td>152.0</td>\n",
       "      <td>2500.175687</td>\n",
       "      <td>2020</td>\n",
       "      <td>17.593237</td>\n",
       "    </tr>\n",
       "    <tr>\n",
       "      <th>5822</th>\n",
       "      <td>250</td>\n",
       "      <td>154.0</td>\n",
       "      <td>2254.313245</td>\n",
       "      <td>2002</td>\n",
       "      <td>18.925748</td>\n",
       "    </tr>\n",
       "    <tr>\n",
       "      <th>5823</th>\n",
       "      <td>210</td>\n",
       "      <td>152.0</td>\n",
       "      <td>2435.203606</td>\n",
       "      <td>2004</td>\n",
       "      <td>17.965284</td>\n",
       "    </tr>\n",
       "  </tbody>\n",
       "</table>\n",
       "<p>5824 rows × 5 columns</p>\n",
       "</div>"
      ],
      "text/plain": [
       "      engine_displacement horsepower  vehicle_weight  model_year  \\\n",
       "0                     220      144.0     2535.887591        2009   \n",
       "1                     160      141.0     2741.170484        2019   \n",
       "2                     230      155.0     2471.880237        2017   \n",
       "3                     150      206.0     3748.164469        2015   \n",
       "4                     300      111.0     2135.716359        2006   \n",
       "...                   ...        ...             ...         ...   \n",
       "5819                  260      139.0     2606.972984        2009   \n",
       "5820                  280      132.0     4004.214323        2014   \n",
       "5821                  210      152.0     2500.175687        2020   \n",
       "5822                  250      154.0     2254.313245        2002   \n",
       "5823                  210      152.0     2435.203606        2004   \n",
       "\n",
       "      fuel_efficiency_mpg  \n",
       "0               16.642943  \n",
       "1               16.298377  \n",
       "2               18.591822  \n",
       "3               11.818843  \n",
       "4               19.402209  \n",
       "...                   ...  \n",
       "5819            16.964054  \n",
       "5820            10.059094  \n",
       "5821            17.593237  \n",
       "5822            18.925748  \n",
       "5823            17.965284  \n",
       "\n",
       "[5824 rows x 5 columns]"
      ]
     },
     "execution_count": 254,
     "metadata": {},
     "output_type": "execute_result"
    }
   ],
   "source": [
    "df_train_zero"
   ]
  },
  {
   "cell_type": "code",
   "execution_count": 255,
   "id": "606e41a6-00fb-43d1-b9ec-f2d3bb26fc0c",
   "metadata": {},
   "outputs": [
    {
     "data": {
      "text/plain": [
       "array([[220, 144.0, 2535.8875912388694, 2009, 16.642943419221385],\n",
       "       [160, 141.0, 2741.1704843893167, 2019, 16.298377150953442],\n",
       "       [230, 155.0, 2471.8802372627765, 2017, 18.59182197290521],\n",
       "       ...,\n",
       "       [210, 152.0, 2500.1756874553603, 2020, 17.59323664899093],\n",
       "       [250, 154.0, 2254.313244733967, 2002, 18.92574818627498],\n",
       "       [210, 152.0, 2435.2036062813268, 2004, 17.96528447348733]],\n",
       "      shape=(5824, 5), dtype=object)"
      ]
     },
     "execution_count": 255,
     "metadata": {},
     "output_type": "execute_result"
    }
   ],
   "source": [
    "X_train = prepare_X(df_train_zero)\n",
    "X_train"
   ]
  },
  {
   "cell_type": "code",
   "execution_count": 256,
   "id": "ce69ce39-9999-435c-bbdf-efe5975a6925",
   "metadata": {},
   "outputs": [
    {
     "data": {
      "text/plain": [
       "(np.float64(0.001179999459122094),\n",
       " array([-7.69497580e-07, -2.15896668e-06, -6.96291974e-06,  9.11551450e-04,\n",
       "         6.30561643e-02]))"
      ]
     },
     "execution_count": 256,
     "metadata": {},
     "output_type": "execute_result"
    }
   ],
   "source": [
    "#X_train = prepare_X(df_train)\n",
    "w0, w = train_linear_regression_latest(X_train, y_train)\n",
    "\n",
    "w0, w "
   ]
  },
  {
   "cell_type": "code",
   "execution_count": 257,
   "id": "394e4aab-286f-4acd-bb20-a16a7d8fd481",
   "metadata": {},
   "outputs": [
    {
     "data": {
      "text/plain": [
       "np.float64(0.02)"
      ]
     },
     "execution_count": 257,
     "metadata": {},
     "output_type": "execute_result"
    }
   ],
   "source": [
    "X_val = prepare_X(df_val_zero)\n",
    "X_val = X_val.astype(float)\n",
    "X_val\n",
    "\n",
    "y_pred = w0 + X_val.dot(w)\n",
    "zero_val = round(rmse(y_val, y_pred),2)\n",
    "zero_val \n"
   ]
  },
  {
   "cell_type": "code",
   "execution_count": 302,
   "id": "ee7a6442-6df2-4088-9180-dae69baeaf06",
   "metadata": {},
   "outputs": [
    {
     "name": "stdout",
     "output_type": "stream",
     "text": [
      "0.16\n",
      "With 0 or with Mean\n"
     ]
    }
   ],
   "source": [
    "X_train_mean = prepare_X(df_train_mean)\n",
    "\n",
    "w0, w = train_linear_regression_latest(X_train_mean, y_train)\n",
    "\n",
    "X_val = prepare_X(df_val_mean)\n",
    "y_pred = w0 + X_val.dot(w)\n",
    "mean_val = round(rmse(y_val, y_pred),2)\n",
    "print(mean_val)\n",
    "\n",
    "if zero_val == mean_val: \n",
    "    print(\"both are equally good \" )\n",
    "else: \n",
    "    print(\"With 0 or with Mean\")\n",
    "    \n",
    "    "
   ]
  },
  {
   "cell_type": "markdown",
   "id": "b7559dc3-0669-40d9-b720-3d79fcca9988",
   "metadata": {},
   "source": [
    "Q3 : Ans -> are equally good "
   ]
  },
  {
   "cell_type": "markdown",
   "id": "997a0dc8-fa18-4145-8399-772de376c4a0",
   "metadata": {},
   "source": [
    "# Question 4\n",
    "- Now let's train a regularized linear regression.\n",
    "- For this question, fill the NAs with 0.\n",
    "- Try different values of r from this list: [0, 0.01, 0.1, 1, 5, 10, 100].\n",
    "- Use RMSE to evaluate the model on the validation dataset.\n",
    "- Round the RMSE scores to 2 decimal digits.\n",
    "- Which r gives the best RMSE?\n",
    "- If multiple options give the same best RMSE, select the smallest r.\n",
    "\n",
    "-- Options:\n",
    "\n",
    "    - 0\n",
    "    - 0.01\n",
    "    - 1\n",
    "    - 10\n",
    "    - 100"
   ]
  },
  {
   "cell_type": "code",
   "execution_count": 303,
   "id": "fa138a60-85da-4788-a864-d5b1d273d240",
   "metadata": {},
   "outputs": [],
   "source": [
    "def train_linear_regression_reg(X, y, r, dtype=float):\n",
    "    X = np.array(X, dtype=dtype)\n",
    "    y = np.array(y, dtype=dtype)\n",
    "\n",
    "    ones = np.ones(X.shape[0], dtype=dtype)\n",
    "    X = np.column_stack([ones, X])\n",
    "    XTX = X.T.dot(X)\n",
    "    XTX = XTX + r * np.eye(XTX.shape[0])\n",
    "\n",
    "    XTX_inv = np.linalg.inv(XTX)\n",
    "    w_full = XTX_inv.dot(X.T).dot(y)\n",
    "\n",
    "    return w_full[0], w_full[1:]"
   ]
  },
  {
   "cell_type": "code",
   "execution_count": 304,
   "id": "977e04b6-5f04-4506-aee5-51da10279f08",
   "metadata": {},
   "outputs": [
    {
     "name": "stdout",
     "output_type": "stream",
     "text": [
      "{0: np.float64(0.16), 0.01: np.float64(0.16), 0.1: np.float64(0.16), 1: np.float64(0.16), 5: np.float64(0.16), 10: np.float64(0.16), 100: np.float64(0.16)}\n",
      "Best r: 0\n"
     ]
    }
   ],
   "source": [
    "r_values = [0, 0.01, 0.1, 1, 5, 10, 100]\n",
    "rmse_scores = {}\n",
    "for r in r_values: \n",
    "    X_train = prepare_X(df_train_zero)\n",
    "    w0, w = train_linear_regression_reg(X_train, y_train, r)\n",
    "    X_val = prepare_X(df_val_zero)\n",
    "    X_val = X_val.astype(float)\n",
    "    y_pred = w0 + X_val.dot(w)\n",
    "    res1 = rmse(y_val, y_pred)\n",
    "    rmse_scores[r] = round(res1, 2)\n",
    "\n",
    "print(rmse_scores)\n",
    "best_r = min(rmse_scores, key=lambda k: (rmse_scores[k], k))\n",
    "print(\"Best r:\", best_r) "
   ]
  },
  {
   "cell_type": "markdown",
   "id": "d47b0c1c-7663-4b5f-b6bc-316cd57c0b10",
   "metadata": {},
   "source": [
    "## Question 5\n",
    "- We used seed 42 for splitting the data. Let's find out how selecting the seed influences our score.\n",
    "- Try different seed values: [0, 1, 2, 3, 4, 5, 6, 7, 8, 9].\n",
    "- For each seed, do the train/validation/test split with 60%/20%/20% distribution.\n",
    "- Fill the missing values with 0 and train a model without regularization.\n",
    "- For each seed, evaluate the model on the validation dataset and collect the RMSE scores.\n",
    "- What's the standard deviation of all the scores? To compute the standard deviation, use np.std.\n",
    "- Round the result to 3 decimal digits (round(std, 3))\n",
    "\n",
    "What's the value of std?\n",
    "\n",
    "   - 0.001\n",
    "   - 0.006\n",
    "   - 0.060\n",
    "   - 0.600"
   ]
  },
  {
   "cell_type": "code",
   "execution_count": 307,
   "id": "fdd5054c-022e-4375-9219-636243eb4e4c",
   "metadata": {},
   "outputs": [
    {
     "name": "stdout",
     "output_type": "stream",
     "text": [
      "[0.02186603008007545, 0.022068404985328447, 0.02250829401281271, 0.021227137311815965, 0.02224152032262159, 0.021851081584749587, 0.020743059155257215, 0.021251309762616962, 0.021701533760225076, 0.020794749886745623]\n",
      "standard deviation : 0.001\n"
     ]
    }
   ],
   "source": [
    "seed_value = [0, 1, 2, 3, 4, 5, 6, 7, 8, 9]\n",
    "res_scores = []\n",
    "\n",
    "for i in seed_value: \n",
    "    np.random.seed(i)\n",
    "    np.random.shuffle(idx)\n",
    "    n_val = int(n *0.20 )\n",
    "    n_test = int(n *0.20 )\n",
    "    n_train = n - n_val - n_test\n",
    "    df_train = df_car.iloc[idx[:n_train]]\n",
    "    df_val = df_car.iloc[idx[n_train:n_train+n_val]]\n",
    "    df_test = df_car.iloc[idx[n_train+n_val:]]\n",
    "    df_train = df_train.reset_index(drop=True)\n",
    "    df_val = df_val.reset_index(drop=True)\n",
    "    df_test = df_test.reset_index(drop=True)\n",
    "    y_train = np.log1p(df_train.fuel_efficiency_mpg.values)\n",
    "    y_val = np.log1p(df_val.fuel_efficiency_mpg.values)\n",
    "    y_test = np.log1p(df_test.fuel_efficiency_mpg.values)\n",
    "    df_train_zero = df_train.fillna('0')\n",
    "    df_val_zero = df_val.fillna('0')\n",
    "    X_train = prepare_X(df_train)\n",
    "    w0, w = train_linear_regression_latest(X_train, y_train)\n",
    "    X_val = prepare_X(df_val)\n",
    "    X_val = X_val.astype(float)\n",
    "    y_pred = w0 + X_val.dot(w)\n",
    "    res1 = rmse(y_val, y_pred)\n",
    "    res_scores.append(float(res1))\n",
    "print(res_scores)\n",
    "std_rmse = round(np.std(res_scores),3)\n",
    "print(f\"standard deviation : {std_rmse}\")"
   ]
  },
  {
   "cell_type": "markdown",
   "id": "8323047d-df6a-4a0d-919e-c96442056614",
   "metadata": {},
   "source": [
    "## Question 6\n",
    "- Split the dataset like previously, use seed 9.\n",
    "- Combine train and validation datasets.\n",
    "- Fill the missing values with 0 and train a model with r=0.001.\n",
    "- What's the RMSE on the test dataset?\n",
    "\n",
    "Options:\n",
    "\n",
    "   - 0.15\n",
    "   - 0.515\n",
    "   - 5.15\n",
    "   - 51.5"
   ]
  },
  {
   "cell_type": "code",
   "execution_count": 308,
   "id": "7e4cc4d0-8934-4ee4-87fc-7577231c7506",
   "metadata": {},
   "outputs": [],
   "source": [
    "np.random.seed(9)\n",
    "np.random.shuffle(idx)\n",
    "n_val = int(n *0.20 )\n",
    "n_test = int(n *0.20 )\n",
    "n_train = n - n_val - n_test\n",
    "df_train = df_car.iloc[idx[:n_train]]\n",
    "df_val = df_car.iloc[idx[n_train:n_train+n_val]]\n",
    "df_test = df_car.iloc[idx[n_train+n_val:]]\n",
    "df_train = df_train.reset_index(drop=True)\n",
    "df_val = df_val.reset_index(drop=True)\n",
    "df_test = df_test.reset_index(drop=True)\n",
    "\n"
   ]
  },
  {
   "cell_type": "code",
   "execution_count": 309,
   "id": "48681942-2440-4428-b6bf-bdf7ece847cb",
   "metadata": {},
   "outputs": [
    {
     "data": {
      "text/plain": [
       "(array([2.83832077, 2.85949652, 2.9997407 , ..., 2.86624524, 2.68571201,\n",
       "        2.98565493], shape=(5824,)),\n",
       " array([2.64269736, 2.84190525, 3.01207291, ..., 2.98178885, 2.7264672 ,\n",
       "        2.96994965], shape=(1940,)))"
      ]
     },
     "execution_count": 309,
     "metadata": {},
     "output_type": "execute_result"
    }
   ],
   "source": [
    "y_train = np.log1p(df_train.fuel_efficiency_mpg.values)\n",
    "y_val = np.log1p(df_val.fuel_efficiency_mpg.values)\n",
    "y_test = np.log1p(df_test.fuel_efficiency_mpg.values)\n",
    "y_train,y_val"
   ]
  },
  {
   "cell_type": "code",
   "execution_count": 310,
   "id": "e454caa3-6622-47a1-b85f-62055a31980f",
   "metadata": {},
   "outputs": [
    {
     "data": {
      "text/html": [
       "<div>\n",
       "<style scoped>\n",
       "    .dataframe tbody tr th:only-of-type {\n",
       "        vertical-align: middle;\n",
       "    }\n",
       "\n",
       "    .dataframe tbody tr th {\n",
       "        vertical-align: top;\n",
       "    }\n",
       "\n",
       "    .dataframe thead th {\n",
       "        text-align: right;\n",
       "    }\n",
       "</style>\n",
       "<table border=\"1\" class=\"dataframe\">\n",
       "  <thead>\n",
       "    <tr style=\"text-align: right;\">\n",
       "      <th></th>\n",
       "      <th>engine_displacement</th>\n",
       "      <th>horsepower</th>\n",
       "      <th>vehicle_weight</th>\n",
       "      <th>model_year</th>\n",
       "      <th>fuel_efficiency_mpg</th>\n",
       "    </tr>\n",
       "  </thead>\n",
       "  <tbody>\n",
       "    <tr>\n",
       "      <th>0</th>\n",
       "      <td>190</td>\n",
       "      <td>129.0</td>\n",
       "      <td>2833.297984</td>\n",
       "      <td>2006</td>\n",
       "      <td>16.087048</td>\n",
       "    </tr>\n",
       "    <tr>\n",
       "      <th>1</th>\n",
       "      <td>180</td>\n",
       "      <td>179.0</td>\n",
       "      <td>2865.628046</td>\n",
       "      <td>2000</td>\n",
       "      <td>16.452738</td>\n",
       "    </tr>\n",
       "    <tr>\n",
       "      <th>2</th>\n",
       "      <td>220</td>\n",
       "      <td>155.0</td>\n",
       "      <td>2338.634720</td>\n",
       "      <td>2008</td>\n",
       "      <td>19.080329</td>\n",
       "    </tr>\n",
       "    <tr>\n",
       "      <th>3</th>\n",
       "      <td>140</td>\n",
       "      <td>136.0</td>\n",
       "      <td>3419.111474</td>\n",
       "      <td>2011</td>\n",
       "      <td>13.163472</td>\n",
       "    </tr>\n",
       "    <tr>\n",
       "      <th>4</th>\n",
       "      <td>70</td>\n",
       "      <td>87.0</td>\n",
       "      <td>3346.134219</td>\n",
       "      <td>2004</td>\n",
       "      <td>13.085351</td>\n",
       "    </tr>\n",
       "    <tr>\n",
       "      <th>...</th>\n",
       "      <td>...</td>\n",
       "      <td>...</td>\n",
       "      <td>...</td>\n",
       "      <td>...</td>\n",
       "      <td>...</td>\n",
       "    </tr>\n",
       "    <tr>\n",
       "      <th>1935</th>\n",
       "      <td>170</td>\n",
       "      <td>133.0</td>\n",
       "      <td>3553.842865</td>\n",
       "      <td>2022</td>\n",
       "      <td>12.249138</td>\n",
       "    </tr>\n",
       "    <tr>\n",
       "      <th>1936</th>\n",
       "      <td>270</td>\n",
       "      <td>140.0</td>\n",
       "      <td>2913.628199</td>\n",
       "      <td>2018</td>\n",
       "      <td>15.164770</td>\n",
       "    </tr>\n",
       "    <tr>\n",
       "      <th>1937</th>\n",
       "      <td>200</td>\n",
       "      <td>134.0</td>\n",
       "      <td>2300.054895</td>\n",
       "      <td>2009</td>\n",
       "      <td>18.723067</td>\n",
       "    </tr>\n",
       "    <tr>\n",
       "      <th>1938</th>\n",
       "      <td>280</td>\n",
       "      <td>177.0</td>\n",
       "      <td>3160.516211</td>\n",
       "      <td>2021</td>\n",
       "      <td>14.278815</td>\n",
       "    </tr>\n",
       "    <tr>\n",
       "      <th>1939</th>\n",
       "      <td>250</td>\n",
       "      <td>139.0</td>\n",
       "      <td>2293.500355</td>\n",
       "      <td>2013</td>\n",
       "      <td>18.490938</td>\n",
       "    </tr>\n",
       "  </tbody>\n",
       "</table>\n",
       "<p>7764 rows × 5 columns</p>\n",
       "</div>"
      ],
      "text/plain": [
       "      engine_displacement  horsepower  vehicle_weight  model_year  \\\n",
       "0                     190       129.0     2833.297984        2006   \n",
       "1                     180       179.0     2865.628046        2000   \n",
       "2                     220       155.0     2338.634720        2008   \n",
       "3                     140       136.0     3419.111474        2011   \n",
       "4                      70        87.0     3346.134219        2004   \n",
       "...                   ...         ...             ...         ...   \n",
       "1935                  170       133.0     3553.842865        2022   \n",
       "1936                  270       140.0     2913.628199        2018   \n",
       "1937                  200       134.0     2300.054895        2009   \n",
       "1938                  280       177.0     3160.516211        2021   \n",
       "1939                  250       139.0     2293.500355        2013   \n",
       "\n",
       "      fuel_efficiency_mpg  \n",
       "0               16.087048  \n",
       "1               16.452738  \n",
       "2               19.080329  \n",
       "3               13.163472  \n",
       "4               13.085351  \n",
       "...                   ...  \n",
       "1935            12.249138  \n",
       "1936            15.164770  \n",
       "1937            18.723067  \n",
       "1938            14.278815  \n",
       "1939            18.490938  \n",
       "\n",
       "[7764 rows x 5 columns]"
      ]
     },
     "execution_count": 310,
     "metadata": {},
     "output_type": "execute_result"
    }
   ],
   "source": [
    "df_full_train = pd.concat([df_train, df_val])\n",
    "df_full_train"
   ]
  },
  {
   "cell_type": "code",
   "execution_count": 311,
   "id": "d508b15d-3d21-48af-aea0-b936b3d00b93",
   "metadata": {},
   "outputs": [
    {
     "data": {
      "text/plain": [
       "engine_displacement      0\n",
       "horsepower             563\n",
       "vehicle_weight           0\n",
       "model_year               0\n",
       "fuel_efficiency_mpg      0\n",
       "dtype: int64"
      ]
     },
     "execution_count": 311,
     "metadata": {},
     "output_type": "execute_result"
    }
   ],
   "source": [
    "df_full_train = df_full_train.reset_index(drop=True)\n",
    "df_full_train.isnull().sum()"
   ]
  },
  {
   "cell_type": "code",
   "execution_count": 312,
   "id": "ae6d5e28-2c43-4ba8-b83f-298c8c8d4d18",
   "metadata": {},
   "outputs": [
    {
     "data": {
      "text/plain": [
       "array([[ 190.        ,  129.        , 2833.29798378, 2006.        ,\n",
       "          16.08704842],\n",
       "       [ 180.        ,  179.        , 2865.6280465 , 2000.        ,\n",
       "          16.4527376 ],\n",
       "       [ 220.        ,  155.        , 2338.63472047, 2008.        ,\n",
       "          19.08032946],\n",
       "       ...,\n",
       "       [ 200.        ,  134.        , 2300.05489488, 2009.        ,\n",
       "          18.72306679],\n",
       "       [ 280.        ,  177.        , 3160.5162106 , 2021.        ,\n",
       "          14.27881459],\n",
       "       [ 250.        ,  139.        , 2293.50035505, 2013.        ,\n",
       "          18.49093821]], shape=(7764, 5))"
      ]
     },
     "execution_count": 312,
     "metadata": {},
     "output_type": "execute_result"
    }
   ],
   "source": [
    "X_full_train = prepare_X(df_full_train)\n",
    "X_full_train"
   ]
  },
  {
   "cell_type": "code",
   "execution_count": 313,
   "id": "6f73177e-0ed2-4b89-affd-a7a04485de79",
   "metadata": {},
   "outputs": [
    {
     "data": {
      "text/plain": [
       "array([2.83832077, 2.85949652, 2.9997407 , ..., 2.98178885, 2.7264672 ,\n",
       "       2.96994965], shape=(7764,))"
      ]
     },
     "execution_count": 313,
     "metadata": {},
     "output_type": "execute_result"
    }
   ],
   "source": [
    "y_full_train = np.concatenate([y_train, y_val])\n",
    "y_full_train"
   ]
  },
  {
   "cell_type": "code",
   "execution_count": 314,
   "id": "49eec026-3dbe-48be-a2e1-d918ad500f74",
   "metadata": {},
   "outputs": [
    {
     "data": {
      "text/plain": [
       "(np.float64(1.7361934845752653),\n",
       " array([-1.47725409e-06, -2.13034294e-06,  1.26864804e-06,  2.48913535e-05,\n",
       "         6.46546824e-02]))"
      ]
     },
     "execution_count": 314,
     "metadata": {},
     "output_type": "execute_result"
    }
   ],
   "source": [
    "w0, w = train_linear_regression_reg(X_full_train, y_full_train, r=0.001)\n",
    "w0,w"
   ]
  },
  {
   "cell_type": "code",
   "execution_count": 315,
   "id": "cc96d64e-d2fc-48b9-a6b3-912addc54bd1",
   "metadata": {},
   "outputs": [
    {
     "data": {
      "text/plain": [
       "np.float64(0.01974805016020437)"
      ]
     },
     "execution_count": 315,
     "metadata": {},
     "output_type": "execute_result"
    }
   ],
   "source": [
    "X_test = prepare_X(df_test)\n",
    "y_pred = w0 + X_test.dot(w)\n",
    "score = rmse(y_test, y_pred)\n",
    "score"
   ]
  },
  {
   "cell_type": "code",
   "execution_count": null,
   "id": "0aa1d098-721e-4413-bb2d-313e55aac049",
   "metadata": {},
   "outputs": [],
   "source": []
  }
 ],
 "metadata": {
  "kernelspec": {
   "display_name": "Python 3 (ipykernel)",
   "language": "python",
   "name": "python3"
  },
  "language_info": {
   "codemirror_mode": {
    "name": "ipython",
    "version": 3
   },
   "file_extension": ".py",
   "mimetype": "text/x-python",
   "name": "python",
   "nbconvert_exporter": "python",
   "pygments_lexer": "ipython3",
   "version": "3.12.1"
  }
 },
 "nbformat": 4,
 "nbformat_minor": 5
}
